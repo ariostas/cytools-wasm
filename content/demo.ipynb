{
  "metadata": {
    "kernelspec": {
      "name": "python",
      "display_name": "Python (Pyodide)",
      "language": "python"
    },
    "language_info": {
      "codemirror_mode": {
        "name": "python",
        "version": 3
      },
      "file_extension": ".py",
      "mimetype": "text/x-python",
      "name": "python",
      "nbconvert_exporter": "python",
      "pygments_lexer": "ipython3",
      "version": "3.8"
    }
  },
  "nbformat_minor": 4,
  "nbformat": 4,
  "cells": [
    {
      "cell_type": "markdown",
      "source": "# CYTools Wasm demo\n\nThis notebook runs entirely in your browser without the need to install anything and or to have a server somewhere running the computations. The functionality is limited, but it is already pretty decent. More information can be found [here](https://github.com/ariostas/cytools-wasm).",
      "metadata": {}
    },
    {
      "cell_type": "code",
      "source": "# This is needed for now, but later on it might be possible to package it better\n%pip install cytools python_flint_wasm numpy scipy tqdm matplotlib",
      "metadata": {
        "trusted": true
      },
      "outputs": [],
      "execution_count": null
    },
    {
      "cell_type": "code",
      "source": "from cytools import read_polytopes\nimport matplotlib.pyplot as plt\nimport numpy as np",
      "metadata": {
        "trusted": true
      },
      "outputs": [],
      "execution_count": null
    },
    {
      "cell_type": "code",
      "source": "# Here we run the example listed in the tutorial.\n# One notable change is that fetch_polytopes is not used because\n# currently it is difficult to implement this functionality.\n# Also, we currently don't have a way to find the tip of the \n# stretched Kahler cone because none of the backends are available in wasm,\n# although it can be done with some work.\n\nh11_list = []\nnonzerointnums = []\ncosthetamin = []\nlimit_per_h11 = 5\ncurr_h11 = 0\ncurr_count = 0\n\nfor p in read_polytopes(\"./sample_polytopes.txt\", lattice=\"N\", favorable=True):\n    h11 = p.h11(lattice=\"N\")\n    if h11 > curr_h11:\n        print(f\"Processing h11={h11}\", end=\"\\r\")\n        curr_h11 = h11\n        curr_count = 0\n    curr_count += 1\n    if curr_count > limit_per_h11:\n        continue\n    t = p.triangulate()\n    cy = t.get_cy()\n    h11_list.append(h11)\n    nonzerointnums.append(len(cy.intersection_numbers(in_basis=True)))\n    mori_rays = cy.toric_mori_cone(in_basis=True).rays()\n    mori_rays_norms = np.linalg.norm(mori_rays, axis=1)\n    n_mori_rays = len(mori_rays)\n    costhetamin.append(min(\n        mori_rays[i].dot(mori_rays[j])\n            /(mori_rays_norms[i]*mori_rays_norms[j])\n        for i in range(n_mori_rays) for j in range(i+1,n_mori_rays)))\nprint(\"Finished processing all h11s!\")\nprint(f\"Scanned through {len(h11_list)} CY hypersurfaces.\")",
      "metadata": {
        "trusted": true
      },
      "outputs": [],
      "execution_count": null
    },
    {
      "cell_type": "code",
      "source": "xdata = [h11_list]*2\nydata = [nonzerointnums, costhetamin]\nxlabels = [r\"$h^{1,1}$\"]*2\nylabels = [r\"# nonzero $\\kappa_{ijk}$\", r\"$\\cos(\\theta_{min})$\"]\nfig, ax0 = plt.subplots(2, 2, figsize=(15,5))\n\nfor i,d in enumerate(ydata):\n    ax = plt.subplot(121+i)\n    ax.scatter(xdata[i], ydata[i], s=10)\n    plt.xlabel(xlabels[i], size=20)\n    plt.ylabel(ylabels[i], size=20)\n    plt.tick_params(labelsize=15, width=2, length=5)\n\nplt.subplots_adjust(wspace=0.3, hspace=0.22)",
      "metadata": {
        "trusted": true
      },
      "outputs": [],
      "execution_count": null
    }
  ]
}